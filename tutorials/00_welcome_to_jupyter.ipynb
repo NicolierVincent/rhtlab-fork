{
 "cells": [
  {
   "cell_type": "markdown",
   "id": "4e26d7f9-c2b1-4440-9d46-1265e2a53d3c",
   "metadata": {},
   "source": [
    "**Jupyter Notebook – Quick Start Guide**\n",
    "\n",
    "This notebook is baed on Jupyter. you can run it in just one click using the [setup](INSTALL.md) for this course.\n",
    "\n",
    "To understand the notebook's content:\n",
    "- Python: You don't need to be an expert python programmer, but you do need to know some of the basics we are goind to introduce you. If you want to get more, please have a look to the references at the [end of this notebook](#section_idref).\n",
    "- Scientific libraries: We will be using a few popular python libraries, in particular NumPy, matplotlib, and pandas. if you are not familiar with these libraries, you should probably start by going about the following notebook tutorial.\n",
    "- Math: We will also use some notions of Linear Algebra, calculus, and Statistics like every engineering courses. You should be able to follow along if you learned these in a Math course and it won't be very advanced for most of the parts.\n",
    "\n",
    "This notebook was inspired by different sources, that can be found at the end of this notebook."
   ]
  },
  {
   "cell_type": "markdown",
   "id": "9808c451-2bfc-47e7-ac10-72034bf65286",
   "metadata": {},
   "source": [
    "<a id=\"1\"></a>\n",
    "# Introduction to Jupyter notebooks\n",
    "\n",
    "This notebook was inspired by the references at the [end of this notebook](#section_idref). These references are a good place to start with Python and covers the basics of data analysis along with Jupyter Notebooks. But don't be too quick to jump on these references, as we'll be covering most of the important bases in this notebook."
   ]
  },
  {
   "cell_type": "markdown",
   "id": "615f183f",
   "metadata": {},
   "source": [
    "## What is a Jupyter Notebook?\n",
    "\n",
    "Let's build up from the basics: what is a Jupyter Notebook? A notebook is simply a document made of cells where you can write in [Markdown language](https://en.wikipedia.org/wiki/Markdown) (a lightweight markup language for creating formatted text) and Python or R programming languages."
   ]
  },
  {
   "cell_type": "markdown",
   "id": "c0332ab1",
   "metadata": {},
   "source": [
    "Jupyter (formerly IPython Notebook) is an open-source project that lets you easily combine Markdown text and executable Python source code on one canvas called a notebook. Visual Studio Code supports working with Jupyter Notebooks natively, and through Python code files. This topic covers the native support available for Jupyter Notebooks and demonstrates how to:\n",
    "\n",
    "- Create, open, and save Jupyter Notebooks\n",
    "- Work with Jupyter code cells\n",
    "- View, inspect, and filter variables using the Variable Explorer and Data Viewer\n",
    "- Connect to a remote Jupyter server\n",
    "- Debug a Jupyter Notebook"
   ]
  },
  {
   "cell_type": "markdown",
   "id": "4cf1eb32",
   "metadata": {},
   "source": [
    "### Setting up your environment\n",
    "\n",
    "To work with Python in Jupyter Notebooks, you must activate an Anaconda environment in VS Code, or another Python environment in which you've installed the [Jupyter package](#INSTALL.md). To select an environment, use the **Python: Select Interpreter** command from the Command Palette (`Ctrl+Shift+P`).\n",
    "\n",
    "Once the appropriate environment is activated, you can create and open a Jupyter Notebook, connect to a remote Jupyter server for running code cells, and export a Jupyter Notebook as a Python file."
   ]
  },
  {
   "cell_type": "markdown",
   "id": "fa58b74f",
   "metadata": {},
   "source": [
    "### Create or open a Jupyter Notebook\n",
    "\n",
    "You can create a Jupyter Notebook by running the **Create: New Jupyter Notebook** command from the Command Palette (`Ctrl+Shift+P`) or by creating a new `.ipynb` file in your workspace.\n",
    "\n",
    "![Create or open a Jupyter Notebook](https://code.visualstudio.com/assets/docs/datascience/jupyter/native-code-cells-01.png)\n",
    "\n",
    "Next, select a kernel using the kernel picker in the top right:\n",
    "\n",
    "![Notebook kernel](https://code.visualstudio.com/assets/docs/datascience/jupyter/native-kernel-picker.png)\n",
    "\n",
    "After selecting a kernel, the language picker located in the bottom right of each code cell will automatically update to the language supported by the kernel:\n",
    "\n",
    "![Python notebook](https://code.visualstudio.com/assets/docs/datascience/jupyter/native-language-picker-01.png)\n",
    "\n",
    "If you have an existing Jupyter Notebook, you can open it by right-clicking on the file and opening with VS Code, or through the VS Code File Explorer."
   ]
  },
  {
   "cell_type": "markdown",
   "id": "f0130e6b-333c-43aa-91ca-b3c4fcdb9aea",
   "metadata": {},
   "source": [
    "### Work with code cells in the notebook editor\n",
    "\n",
    "The notebook editor makes it easy to create, edit, and run code cells within your Jupyter. As we said, it is a document made of cells. You can write in some of them (markdown cells) or make calculations in Python (code cells) and execute them like this:"
   ]
  },
  {
   "cell_type": "code",
   "execution_count": null,
   "id": "b94f0a1338c27df1",
   "metadata": {
    "collapsed": false,
    "jupyter": {
     "outputs_hidden": false
    }
   },
   "outputs": [],
   "source": [
    "1+2"
   ]
  },
  {
   "cell_type": "markdown",
   "id": "2e8a6c4f5617f6a8",
   "metadata": {},
   "source": [
    "By default, a blank notebook will have an empty code cell for you to start with and an existing notebook will place one at the bottom. Add your code to the empty code cell to get started."
   ]
  },
  {
   "cell_type": "code",
   "execution_count": null,
   "id": "bf1565639a2505c",
   "metadata": {
    "collapsed": false,
    "jupyter": {
     "outputs_hidden": false
    }
   },
   "outputs": [],
   "source": [
    "msg = \"Hello Jupyter World\"\n",
    "print(msg)"
   ]
  },
  {
   "cell_type": "markdown",
   "id": "7314589e",
   "metadata": {},
   "source": [
    "Once you have a notebook, you can run a code cell using the Run icon to the left of the cell and the output will appear directly below the code cell.\n",
    "\n",
    "To run code, you can also use keyboard shortcuts in both command and edit mode. To run the current cell, use `Ctrl+Enter`. To run the current cell and advance to the next, use `Shift+Enter`.\n",
    "\n",
    "![Running a cell](https://code.visualstudio.com/assets/docs/datascience/jupyter/native-code-cells-03.png)"
   ]
  },
  {
   "cell_type": "markdown",
   "id": "326bf6b2",
   "metadata": {},
   "source": [
    "You can run multiple cells by selecting **Run All, Run All Above**, or **Run All Below**.\n",
    "\n",
    "![Run all cells](https://code.visualstudio.com/assets/docs/datascience/jupyter/native-code-runs.png)"
   ]
  },
  {
   "cell_type": "markdown",
   "id": "f6452cc1",
   "metadata": {},
   "source": [
    "Jupyter Notebook is great for experimentation and prototyping code then trying new things. We can write down our thoughts, run our code and see the outcomes all in one place.\n",
    "It is like a diary for your experiments, projects, and labs.\n",
    "\n",
    "Try it yourself now. Click on the cell above and hit `Shift`-`Enter`. You can save your Jupyter Notebook using the keyboard shortcut `Ctrl+S` or **File > Save**."
   ]
  },
  {
   "cell_type": "markdown",
   "id": "56b55c6b",
   "metadata": {},
   "source": [
    "While working with code cells, a cell can be in three states: unselected, command mode, and edit mode. A vertical bar to the left of a code cell and editor border shows the current state of a cell. When no bar is visible, the cell is unselected. When a cell is selected, it can be in command mode or in edit mode."
   ]
  },
  {
   "cell_type": "markdown",
   "id": "191ede46",
   "metadata": {},
   "source": [
    "![Code cell modes](https://code.visualstudio.com/assets/docs/datascience/jupyter/native-code-unselected-02.png)"
   ]
  },
  {
   "cell_type": "markdown",
   "id": "dca7b2cc",
   "metadata": {},
   "source": [
    "In command mode, a solid vertical bar will appear to the left of the cell. The cell can be operated on and accepts keyboard commands."
   ]
  },
  {
   "cell_type": "markdown",
   "id": "1d461003",
   "metadata": {},
   "source": [
    "![Command cell modes](https://code.visualstudio.com/assets/docs/datascience/jupyter/native-code-cells-02.png)"
   ]
  },
  {
   "cell_type": "markdown",
   "id": "138d721c",
   "metadata": {},
   "source": [
    "In edit mode, a solid vertical bar is joined by a border around the cell editor. The cell's contents (code or Markdown) can be modified."
   ]
  },
  {
   "cell_type": "markdown",
   "id": "008765b0",
   "metadata": {},
   "source": [
    "> **Note**: To run a selected code cell, you can also use keyboard shortcuts in both command and edit mode. Ctrl+Enter runs the currently selected cell. <kbd>Shift</kbd>+<kbd>Enter</kbd> runs the currently selected cell and inserts a new cell immediately below (focus moves to new cell). <kbd>Alt</kbd>+<kbd>Enter</kbd> runs the currently selected cell and inserts a new cell immediately below (focus remains on current cell)."
   ]
  },
  {
   "cell_type": "markdown",
   "id": "3bb3d3fa",
   "metadata": {},
   "source": [
    "### Move a code cell\n",
    "\n",
    "We can move cells up or down within a notebook via dragging and dropping. For code cells, the drag and drop area is to the left of the cell editor as indicated below. For rendered Markdown cells, you may click anywhere to drag and drop cells.\n",
    "\n",
    "![Moving code cells](https://code.visualstudio.com/assets/docs/datascience/jupyter/code-move.png)\n",
    "\n",
    "To move multiple cells, you can use the same drag and drop areas in any cell included in the selection. The keyboard shortcut <kbd>Alt+</kbd><kbd>Arrow</kbd> also moves one or multiple slected cells."
   ]
  },
  {
   "cell_type": "markdown",
   "id": "4463671c",
   "metadata": {},
   "source": [
    "### Delete a code cell\n",
    "\n",
    "To delete code, we can use the **Delete** icon in the code cell toolbar. When the selected code cell is in command mode, we can also use the keyboard shortcut <kbd>D</kbd>+<kbd>D</kbd>.\n",
    "\n",
    "![Delete code cells](https://code.visualstudio.com/assets/docs/datascience/jupyter/native-code-delete.png)"
   ]
  },
  {
   "cell_type": "markdown",
   "id": "7e2653b7",
   "metadata": {},
   "source": [
    "### Undo your last change\n",
    "\n",
    "You can use the <kbd>Z</kbd> key to undo your previous change, for example, if you've made an accidental edit, you can undo it to the previous correct state, or if you've deleted a cell accidentally, you can recover it."
   ]
  },
  {
   "cell_type": "markdown",
   "id": "89d4d671-de88-4c25-a27a-0fdddebd6ebc",
   "metadata": {},
   "source": [
    "## Writing inside the notebook\n",
    "\n",
    "The language used here is [Markdown](https://en.wikipedia.org/wiki/Markdown) and it is a very popular markup language. It can be used to write text in a _Markdown cell_. To specify that a cell is Markdown you need to click in the drop-down menu in the toolbar and select Markdown.\n",
    "\n",
    "Click on the '+' button on the left and select Markdown from the toolbar. Now you can type your first Markdown cell and press run.\n",
    "\n",
    "If you made a mistake in your *Markdown* cell and you have already run it, you will notice that you cannot edit it just by clicking on it. This is because you are in **Command Mode**. Jupyter Notebooks have two distinct modes:\n",
    "\n",
    "- Edit Mode: Allows you to edit a cell's content.\n",
    "\n",
    "- Command Mode:: Allows you to edit the notebook as a whole and use keyboard shortcuts but not edit a cell's content.\n",
    "\n",
    "You can toggle between these two by either pressing <kbd>ESC</kbd> and <kbd>Enter</kbd> or clicking outside a cell or inside it (you need to double click if it's a Markdown cell). You can always tell which mode you're on: the current cell will have a green border in **Edit Mode** and a blue border in **Command Mode**. Try it!\n",
    "\n",
    "You can also click on the left side of a Jupyter cell then type <kbd>M</kbd> to enable it. If you type <kbd>Y</kbd> you will enable a code cell. For example, now I would like to run another calculation:"
   ]
  },
  {
   "cell_type": "code",
   "execution_count": null,
   "id": "13719e055dcdc06b",
   "metadata": {
    "collapsed": false,
    "jupyter": {
     "outputs_hidden": false
    }
   },
   "outputs": [],
   "source": [
    "4/5"
   ]
  },
  {
   "cell_type": "markdown",
   "id": "abb6c9c0",
   "metadata": {},
   "source": [
    "I can keep a trace of my former commands like that."
   ]
  },
  {
   "cell_type": "markdown",
   "id": "4f3f80ae",
   "metadata": {},
   "source": [
    "### Switch between code and markdown (VS Code cells)"
   ]
  },
  {
   "cell_type": "markdown",
   "id": "55690129",
   "metadata": {},
   "source": [
    "Same explanations as above but we can also do it by selecting the language picker in the bottom right of a cell will allow you to switch between Markdown and, if applicable, any other language supported by the selected kernel.\n",
    "\n",
    "![Switch between code and markdown](https://code.visualstudio.com/assets/docs/datascience/jupyter/native-language-picker-01.png)\n",
    "\n",
    "Once Markdown is set, you can enter Markdown formatted content to the code cell. It is simply another way around rather than memorizing the useful <kbd>M</kbd> & <kbd>Y</kbd> shortcuts.\n",
    "\n",
    "As we have seen before with code cells, in order to render Markdown cells, you can select the check mark in the cell toolbar, or use the keyboard shortcuts <kbd>Ctrl</kbd>+<kbd>Enter</kbd> and <kbd>Shift</kbd>+<kbd>Enter</kbd>.\n",
    "\n",
    "![Markdown cell writing mode](https://code.visualstudio.com/assets/docs/datascience/jupyter/native-markdown-htr.png)\n",
    "\n",
    "![Markdown cell presentation mode](https://code.visualstudio.com/assets/docs/datascience/jupyter/native-markdown-rendered.png)"
   ]
  },
  {
   "cell_type": "markdown",
   "id": "bd3655ba",
   "metadata": {},
   "source": [
    "### Clear output or restart/interrupt the kernel\n",
    "\n",
    "If you're having problems, and your code isn't working as expected, the first thing to do is restart the kernel. We can accomplish that using the main Notebook Editor toolbar."
   ]
  },
  {
   "cell_type": "markdown",
   "id": "fb082358",
   "metadata": {},
   "source": [
    "### Enable/disable line numbers\n",
    "\n",
    "When you are in command mode, you can enable or disable line numbering within a single code cell by using the <kbd>L</kbd> key."
   ]
  },
  {
   "cell_type": "markdown",
   "id": "31c6eed2",
   "metadata": {},
   "source": [
    "![Enable and disable line numbers](https://code.visualstudio.com/assets/docs/datascience/jupyter/cell-toggle-line-num.png)"
   ]
  },
  {
   "cell_type": "markdown",
   "id": "ccd5d8e3",
   "metadata": {},
   "source": [
    "To toggle line numbering for the entire notebook, use <kbd>Shift</kbd>+<kbd>L</kbd> when in command mode on any cell.\n",
    "\n",
    "![Enable/disable line numbers](https://code.visualstudio.com/assets/docs/datascience/jupyter/notebook-toggle-line-num.png)"
   ]
  },
  {
   "cell_type": "markdown",
   "id": "b2f2ba88",
   "metadata": {},
   "source": [
    "### Table of contents"
   ]
  },
  {
   "cell_type": "markdown",
   "id": "7deb9389",
   "metadata": {},
   "source": [
    "To navigate through your notebook, open the File Explorer in the Activity bar. Then open the Outline tab in the Side bar.\n",
    "\n",
    "![Table](https://code.visualstudio.com/assets/docs/datascience/jupyter/table-of-contents.png)"
   ]
  },
  {
   "cell_type": "markdown",
   "id": "cc4548d6",
   "metadata": {},
   "source": [
    "**Note**: By default, the outline will only show Markdown. To show code cells, enable the following setting: Notebook > Outline: Show Code Cells."
   ]
  },
  {
   "cell_type": "markdown",
   "id": "9c658c01",
   "metadata": {},
   "source": [
    "### IntelliSense support in the Jupyter Notebook Editor\n",
    "\n",
    "The Python Jupyter Notebook Editor window has full IntelliSense – code completions, member lists, quick info for methods, and parameter hints. You can be just as productive typing in the Notebook Editor window as you are in the code editor.\n",
    "\n",
    "![IntelliSense support](https://code.visualstudio.com/assets/docs/datascience/jupyter/intellisense.png)"
   ]
  },
  {
   "cell_type": "markdown",
   "id": "4664a1a8",
   "metadata": {},
   "source": [
    "### Variable explorer and data viewer\n",
    "\n",
    "Within a Python Notebook, it's possible to view, inspect, sort, and filter the variables within your current Jupyter session. By selecting the **Variables** icon in the main toolbar after running code and cells, you'll see a list of the current variables, which will automatically update as variables are used in code. The variables pane will open at the bottom of the notebook.\n",
    "\n",
    "![Variable explorer](https://code.visualstudio.com/assets/docs/datascience/jupyter/variable-explorer-01.png)\n",
    "\n",
    "![Explorer](https://code.visualstudio.com/assets/docs/datascience/jupyter/variable-explorer-02.png)"
   ]
  },
  {
   "cell_type": "markdown",
   "id": "3756040b",
   "metadata": {},
   "source": [
    "## Other important considerations\n",
    "\n",
    "A notebook should be autosaved every 120 seconds max. If you want to manually save it you can just use the classical <kbd>Ctrl</kbd>+<kbd>S</kbd>. But PyCharm autosave your last changes.\n",
    "\n",
    "To know if your *interpreter* works well and if your *kernel* works properly, you can have a look at the top of your windows, you should see something similar to `Python 3 (ipykernel)`. If not it is idle.\n",
    "\n",
    "We can find more shortcuts by typing <kbd>h</kbd> (for help).\n",
    "\n",
    "You may need to use shell commands, like `ls` or `cat` in a Jupyter Notebook environment. That is very easy to do: just type `!` before you shell command, like so:"
   ]
  },
  {
   "cell_type": "code",
   "execution_count": 7,
   "id": "fe2e83d5",
   "metadata": {
    "ExecuteTime": {
     "end_time": "2023-07-19T08:36:07.983506200Z",
     "start_time": "2023-07-19T08:35:15.843460800Z"
    }
   },
   "outputs": [
    {
     "data": {
      "text/plain": [
       "'/home/angiraldi/git/rht/tutorials'"
      ]
     },
     "execution_count": 7,
     "metadata": {},
     "output_type": "execute_result"
    }
   ],
   "source": [
    "!pwd"
   ]
  },
  {
   "cell_type": "code",
   "execution_count": null,
   "id": "eed49c7673b7267",
   "metadata": {
    "collapsed": false,
    "jupyter": {
     "outputs_hidden": false
    }
   },
   "outputs": [],
   "source": [
    "%pwd"
   ]
  },
  {
   "cell_type": "markdown",
   "id": "56223525",
   "metadata": {},
   "source": [
    "What is the difference between `!` and `%` in Jupyter notebooks?\n",
    "\n",
    "- Both commands allow you to run shell commands from a Jupyter notebook.\n",
    "- `%` is provided by the [IPython kernel](https://ipython.readthedocs.io/en/stable/interactive/magics.html) and allows you to run \"magic commands\", many of which include well-known shell commands.\n",
    "- `!` is provided by the Jupyter project, it allows shell commands to be run within cells:\n",
    "    * It also calls out to a shell (in a new process), while `%` affects the process associated with the notebook (or the notebook itself; many `%` commands have no shell counterpart).\n",
    "    * `!cd foo`, by itself, has no lasting effect, since the process with the changed directory immediately terminates.\n",
    "    * `%cd foo` changes the current directory of the notebook process, which is a lasting effect.\n",
    "\n",
    "More information can be found [there](https://stackoverflow.com/questions/45784499/what-is-the-difference-between-and-in-jupyter-notebooks) on this subject."
   ]
  },
  {
   "cell_type": "markdown",
   "id": "3b2560ba",
   "metadata": {},
   "source": [
    "That's it. Jupyter Notebooks are really easy to use and require no prior knowledge. However, if you want to learn more about them, we have some tips and tricks below. Notebooks are versatile and can be used for various purposes. For example, you can even write an entire book using a [notebook](https://mobook.github.io/MO-book/intro.html)."
   ]
  },
  {
   "cell_type": "markdown",
   "id": "8488ccf8",
   "metadata": {},
   "source": [
    "## Generate hyperlink inside and outside a notebook\n",
    "\n",
    "To create a simple link, regarding images, documents or website, you can follow this very short [article](https://docs.github.com/en/get-started/writing-on-github/getting-started-with-writing-and-formatting-on-github/basic-writing-and-formatting-syntax#links).\n",
    "\n",
    "It is a bit more complicated and tricky if you need to generate link to give references inside a Notebook, to another [section](#1) for instance. \n",
    "Here's how you can do it:\n",
    "- Create a link: [To some Internal Section](#section_id)\n",
    "- Create a destination: <a id='section_id'></a>\n",
    "\n",
    "You can also create a link in one notebook and have the destination in another notebook:\n",
    "- Create a link: [To some Internal Section](another_notebook.ipynb#section_id2)\n",
    "- Create a destination: <a id='section_id2'></a>\n",
    "\n",
    "If the notebook is inside a folder present in the current working directory, you can use this format: \n",
    "`[To Some Internal Section](TestFolder/another_notebook.ipynb#section_id3)`.\n",
    "\n",
    "More information can be found [here](https://stackoverflow.com/questions/49535664/how-to-hyperlink-in-a-jupyter-notebook)."
   ]
  },
  {
   "cell_type": "markdown",
   "id": "5afeacd7",
   "metadata": {},
   "source": [
    "## Basic markdown formatting"
   ]
  },
  {
   "cell_type": "markdown",
   "id": "d5ed4a00",
   "metadata": {},
   "source": [
    "### Italics, Bold, Strikethrough, Inline, Blockquotes and Links\n",
    "\n",
    "The five most important concepts to format your code appropriately when using Markdown are:\n",
    "    \n",
    "- *Italics*: Surround your text with \\_ or \\*.\n",
    "\n",
    "- **Bold**: Surround your text with \\__ or \\**.\n",
    "\n",
    "- `inline`: Surround your text with \\`.\n",
    "\n",
    "- blockquote: Place \\> before your text.\n",
    "\n",
    "- [Links](http://course-v3.fast.ai/): Surround the text you want to link with \\[\\] and place the link adjacent to the text, surrounded with ()."
   ]
  },
  {
   "cell_type": "markdown",
   "id": "b65fd927",
   "metadata": {},
   "source": [
    "### Headings\n",
    "\n",
    "Notice that including a hashtag before the text in a markdown cell makes the text a heading. The number of hashtags you include will determine the priority of the header (`#` is level one, `##` is level two, `###` is level three and `####` is level four). We will add three new cells with the + button on the left to see how every level of heading looks.\n",
    "\n",
    "In the notebook, double click on some headings and find out what level they are!"
   ]
  },
  {
   "cell_type": "markdown",
   "id": "8606c274",
   "metadata": {},
   "source": [
    "### Lists\n",
    "\n",
    "There are three types of lists in markdown.\n",
    "\n",
    "Ordered list:\n",
    "\n",
    "1. Step 1\n",
    "    2. Step 1B\n",
    "3. Step 3\n",
    "\n",
    "Unordered list\n",
    "\n",
    "* learning rate\n",
    "* cycle length\n",
    "* weight decay\n",
    "\n",
    "Task list\n",
    "\n",
    "- [x] Learn Jupyter Notebooks\n",
    "    - [x] Writing\n",
    "    - [x] Modes\n",
    "    - [x] Other Considerations\n",
    "- [ ] Change the world\n",
    "\n",
    "In the notebook, double click on them to see how they are built! "
   ]
  },
  {
   "cell_type": "markdown",
   "id": "bc947865",
   "metadata": {},
   "source": [
    "### Images\n",
    "\n",
    "The simplest way to enter an image in a notebook is by adding `!` and wrapping the alt text in `[ ]`. Alt text is a short text equivalent of the information in the image. Then, wrap the link for the image in parenthese `()`.\n",
    "\n",
    "![Screenshot of a comment on a GitHub issue showing an image, added in the Markdown, of an Octocat smiling and raising a tentacle.](https://images.unsplash.com/photo-1473341304170-971dccb5ac1e?ixlib=rb-4.0.3&ixid=M3wxMjA3fDB8MHxwaG90by1wYWdlfHx8fGVufDB8fHx8fA%3D%3D&auto=format&fit=crop&w=1170&q=80)"
   ]
  },
  {
   "cell_type": "markdown",
   "id": "cb7e393ae09e000b",
   "metadata": {},
   "source": [
    "## Coding capabilities"
   ]
  },
  {
   "cell_type": "code",
   "execution_count": 9,
   "id": "4a901ba1",
   "metadata": {
    "ExecuteTime": {
     "end_time": "2023-07-19T08:36:08.023696Z",
     "start_time": "2023-07-19T08:35:15.843460800Z"
    }
   },
   "outputs": [],
   "source": [
    "?print"
   ]
  },
  {
   "cell_type": "code",
   "execution_count": 10,
   "id": "ab4213b1",
   "metadata": {
    "ExecuteTime": {
     "end_time": "2023-07-19T08:36:08.023696Z",
     "start_time": "2023-07-19T08:35:15.843460800Z"
    }
   },
   "outputs": [
    {
     "data": {
      "text/plain": [
       "(1, 2, 4, 8)"
      ]
     },
     "execution_count": 10,
     "metadata": {},
     "output_type": "execute_result"
    }
   ],
   "source": [
    "import matplotlib.pyplot as plt\n",
    "from PIL import Image"
   ]
  },
  {
   "cell_type": "code",
   "execution_count": 11,
   "id": "09c17eaa",
   "metadata": {
    "ExecuteTime": {
     "end_time": "2023-07-19T08:36:08.058534800Z",
     "start_time": "2023-07-19T08:35:15.843460800Z"
    }
   },
   "outputs": [
    {
     "data": {
      "image/png": "[encoded data removed]",
      "text/plain": [
       "<Figure size 1600x1000 with 1 Axes>"
      ]
     },
     "metadata": {},
     "output_type": "display_data"
    }
   ],
   "source": [
    "a = 1\n",
    "b = a + 1\n",
    "c = b + a + 1\n",
    "d = c + b + a + 1\n",
    "a, b, c ,d"
   ]
  },
  {
   "cell_type": "code",
   "execution_count": null,
   "id": "56ec0a9e7ad0fcee",
   "metadata": {
    "collapsed": false,
    "jupyter": {
     "outputs_hidden": false
    }
   },
   "outputs": [],
   "source": [
    "plt.plot([a,b,c,d])\n",
    "plt.show()"
   ]
  },
  {
   "cell_type": "markdown",
   "id": "496ee66d",
   "metadata": {},
   "source": [
    "## Some useful shortcuts to keep in mind\n",
    "\n",
    "There are a couple of shortcuts you must know about which we use all the time (and always in **Command Mode**). We've put together for when you're in a Jupyter Notebook. Try to use them as often as possible and you'll learn more effectively.\n",
    "\n",
    "These are:\n",
    "- <kbd>Shift</kbd>+<kbd>Enter</kbd>: Run the code or markdown on a cell\n",
    "- <kbd>Up Arrow</kbd> / <kbd>Down Arrow</kbd>: Toggle across cells\n",
    "- <kbd>b</kbd>: Create new cell underneath this one\n",
    "- <kbd>0</kbd>+<kbd>0</kbd>: Reset Kernel\n",
    "- <kbd>h</kbd>: `h` to get help\n",
    "- <kbd>M</kbd>: Convert cell to Markdown\n",
    "- <kbd>Y</kbd>: Convert cell to Code\n",
    "- <kbd>D</kbd>+<kbd>D</kbd>: Delete cell\n",
    "- <kbd>O</kbd>: Toggle between hidding or showing an output\n",
    "- <kbd>Shift</kbd>+<kbd>Up Arrow</kbd>/<kbd>Down Arrow</kbd>: Select several cells\n",
    "  * You can then perform operations on several of them (execute cells, copy and paste, etc.)\n",
    "- <kbd>Alt+</kbd><kbd>Arrow</kbd>: Move one or multiple slected cells\n",
    "- <kbd>Z</kbd>: Undo the last changes\n",
    "- <kbd>L</kbd>: Enable or disable line numbering within a single code cell by using the L key\n",
    "- <kbd>Shift</kbd>+<kbd>L</kbd>: Toggle line numbering for the entire notebook\n",
    "\n",
    "There are also very nice tricks to perform within notebooks, in a code cell:\n",
    "- `?function-name`: It shows the definition and docstring for that function\n",
    "- `??function-name`: It shows the source code for that function\n",
    "- <kbd>Shift</kbd>+<kbd>Tab</kbd> (press only once): We can see which parameters to pass to a function\n",
    "- <kbd>Shift</kbd>+<kbd>Tab</kbd> (press three times): We get additional information on the method"
   ]
  },
  {
   "cell_type": "markdown",
   "id": "424b2264",
   "metadata": {},
   "source": [
    "### The magic commands inside notebooks\n",
    "\n",
    "Line magics are functions that you can run on cells. They should be at the beginning of a line and take as an argument the rest of the line from where they are called. You call them by placing a `%` sign before the command. The most useful ones are:\n",
    "\n",
    "- `%matplotlib inline`:: Ensures that all matplotlib plots will be plotted in the output cell within the notebook and will be kept in the notebook when saved.\n",
    "\n",
    "This command is always called together at the beginning of every notebook of the fast.ai course.\n",
    "\n",
    "``` python\n",
    "%matplotlib inline\n",
    "```\n",
    "\n",
    "- `%timeit`:: Runs a line ten thousand times and displays the average time it took to run."
   ]
  },
  {
   "cell_type": "code",
   "execution_count": null,
   "id": "df568a04c430026c",
   "metadata": {
    "collapsed": false,
    "jupyter": {
     "outputs_hidden": false
    }
   },
   "outputs": [],
   "source": [
    "%timeit [i+1 for i in range(10000)]"
   ]
  },
  {
   "cell_type": "markdown",
   "id": "c13b37d3",
   "metadata": {},
   "source": [
    "`%debug`: Inspects a function which is showing an error using the [Python debugger](https://docs.python.org/3/library/pdb.html). If you type this in a cell just after an error, you will be directed to a console where you can inspect the values of all the variables."
   ]
  },
  {
   "cell_type": "markdown",
   "id": "a64351e7",
   "metadata": {},
   "source": [
    "Most of those commands where developed thanks to Jeremy Howard's tutorial: [Jupyter Notebook 101](https://www.kaggle.com/code/jhoward/jupyter-notebook-101) & VS Code tutorials about [Data Science](https://code.visualstudio.com/docs/datascience/overview) and [Jupyter Notebooks](https://code.visualstudio.com/docs/datascience/jupyter-notebooks).\n",
    "\n",
    "Advanced functions for data analysis and science can be followed from this [tutorial](https://code.visualstudio.com/docs/datascience/jupyter-notebooks#_data-viewer). But ee'll come back to these features later in the semester."
   ]
  },
  {
   "cell_type": "markdown",
   "id": "734f2c71",
   "metadata": {},
   "source": [
    "## How to interrupt a running code?\n",
    "\n",
    "By pressing <kbd>Ctrl-C</kbd> while any code is running. This will cause nearly all Python programs to stop immediately except in certain unusual cases. Whether a script through `%run` or a long-running command, will raise a `KeyboardInterrupt`. This will cause nearly all Python programs to stop immediately except in certain unusual cases.\n",
    "\n",
    "> **Warning**: When a piece of Python code has made use of compiled plug-ins, pressing <kbd>Ctrl-C</kbd> does not always cause the program to stop running immediately. In this case, you will either have to wait for control to be returned to the Python interpreter or, in more severe circumstances, forcibly terminate the Python process in your operating system (using the task manager in Windows or the kill command in Linux, for example)."
   ]
  },
  {
   "cell_type": "markdown",
   "id": "4b28566f",
   "metadata": {},
   "source": [
    "If you want a good tutorial to get started with the terminal within VS Code, you can start [here](https://code.visualstudio.com/docs/terminal/basics)."
   ]
  },
  {
   "cell_type": "markdown",
   "id": "1a7c8379",
   "metadata": {},
   "source": [
    "## Export your Jupyter Notebook\n",
    "\n",
    "You can export a Jupyter Notebook as a Python file (`.py`), a PDF, or an HTML file. To export, select the **Export** action on the main toolbar. You'll then be presented with a dropdown of file format options.\n",
    "\n",
    "![Export to pdf](https://code.visualstudio.com/assets/docs/datascience/jupyter/native-toolbar-export.png)\n",
    "\n",
    "> **Note**: For PDF export, you must have [TeX installed](https://nbconvert.readthedocs.io/en/latest/install.html#installing-tex). If you don't, you will be notified that you need to install it when you select the PDF option. Also, be aware that if you have SVG-only output in your Notebook, they will not be displayed in the PDF. To have SVG graphics in a PDF, either ensure that your output includes a non-SVG image format or else you can first export to HTML and then save as PDF using your browser.\n",
    "\n",
    "TODO:\n",
    "- [ ] Clarify how to use LaTeX in VS Code with [Getting LaTeX](https://www.latex-project.org/get/) & [LaTeX-Workshop](https://github.com/James-Yu/LaTeX-Workshop) + [jupyter_contrib_nbextensions](https://jupyter-contrib-nbextensions.readthedocs.io/en/latest/install.html) & [Installation of the nb extension](https://jupyter-contrib-nbextensions.readthedocs.io/en/latest/nbextensions/latex_envs/README.html?highlight=LaTeX)."
   ]
  },
  {
   "cell_type": "markdown",
   "id": "20a64b66-1a54-4490-836c-c41500dd0913",
   "metadata": {},
   "source": [
    "## The `%run` command\n",
    "\n",
    "You can run any file as a Python program inside the environment of your IPython session with Jupyter Notebook using the `%run command`. Suppose you had the following simple script stored in `script.py`:"
   ]
  },
  {
   "cell_type": "markdown",
   "id": "6f13c6855ac34c95",
   "metadata": {},
   "source": [
    "### Two-line solution"
   ]
  },
  {
   "cell_type": "code",
   "execution_count": null,
   "id": "321dca97595953f9",
   "metadata": {
    "collapsed": false,
    "jupyter": {
     "outputs_hidden": false
    }
   },
   "outputs": [],
   "source": [
    "# %cd ..\n",
    "# %pwd\n",
    "# %cd \"./src\"\n",
    "# %run script.py"
   ]
  },
  {
   "cell_type": "markdown",
   "id": "363596fbe9f23e83",
   "metadata": {},
   "source": [
    "### One-line solution"
   ]
  },
  {
   "cell_type": "code",
   "execution_count": 15,
   "id": "bed6df6c-bfd8-4085-8791-82f26d68e9e8",
   "metadata": {
    "ExecuteTime": {
     "end_time": "2023-07-19T08:36:08.303658300Z",
     "start_time": "2023-07-19T08:35:18.887042300Z"
    },
    "tags": []
   },
   "outputs": [],
   "source": [
    "# %ls\n",
    "# %cd .."
   ]
  },
  {
   "cell_type": "code",
   "execution_count": 16,
   "id": "c5bdbfa1-1d6c-41cc-b1fc-d346bd15078d",
   "metadata": {
    "ExecuteTime": {
     "end_time": "2023-07-19T08:36:08.303658300Z",
     "start_time": "2023-07-19T08:35:18.933486400Z"
    },
    "tags": []
   },
   "outputs": [],
   "source": [
    "# %run ./src/script.py"
   ]
  },
  {
   "cell_type": "code",
   "execution_count": 17,
   "id": "6103964b-5fca-4832-a38a-84891cb3c2e9",
   "metadata": {
    "ExecuteTime": {
     "end_time": "2023-07-19T08:36:08.303658300Z",
     "start_time": "2023-07-19T08:35:18.933486400Z"
    },
    "tags": []
   },
   "outputs": [],
   "source": [
    "# a = 5\n",
    "# b = 6\n",
    "# c = 7.5\n",
    "\n",
    "# result = f(a, b, c)"
   ]
  },
  {
   "cell_type": "code",
   "execution_count": null,
   "id": "4a0462c411b6c45a",
   "metadata": {
    "collapsed": false,
    "jupyter": {
     "outputs_hidden": false
    }
   },
   "outputs": [],
   "source": [
    "# print(result)"
   ]
  },
  {
   "cell_type": "markdown",
   "id": "302246c5-ce46-401c-9061-1de1e97e79f8",
   "metadata": {
    "jp-MarkdownHeadingCollapsed": true,
    "tags": []
   },
   "source": [
    "This simple script is run in an _empty namespace_ (with no imports or other variables defined), which corresponds to the same behavior of `python script.py` in a terminal. That means, all the variables (imports, functions, and globals) defined in the file will be accessible in the IPython shell. "
   ]
  },
  {
   "cell_type": "markdown",
   "id": "cac2f8fb-1452-4feb-b3e9-b93ed672dae0",
   "metadata": {},
   "source": [
    "## The `%load` magic function\n",
    "\n",
    "In the notebook, we can also use the related `%load` magic function. It imports a script into a code cell:"
   ]
  },
  {
   "cell_type": "code",
   "execution_count": 1,
   "id": "d915fcf490fd1287",
   "metadata": {
    "collapsed": false,
    "jupyter": {
     "outputs_hidden": false
    }
   },
   "outputs": [],
   "source": [
    "# %load ./src/script.py\n",
    "# def f(x, y, z):\n",
    "#     return (x + y) / z"
   ]
  },
  {
   "cell_type": "markdown",
   "id": "70ee26ad",
   "metadata": {},
   "source": [
    "<a id='section_idref'></a>\n",
    "# References\n",
    "\n",
    "- [ ] [40 Jupyter Notebook Tips, Tricks, and Shortcuts for Data Science](https://saturncloud.io/blog/40-jupyter-notebook-tips-tricks-and-shortcuts-for-data-science/)\n",
    "- [ ] [Python's official tutorial](https://docs.python.org/3/tutorial/)\n",
    "- [ ] [_Python for Data Analysis_](https://wesmckinney.com/book/) by Wes McKinney (O’Reilly). Copyright 2022, 978-1-098-10403-0\n",
    "- [ ] [Website of the book](https://wesmckinney.com/book)\n",
    "- [ ] [Jupyter Notebooks in VS Code](https://code.visualstudio.com/docs/datascience/jupyter-notebooks#_work-with-code-cells-in-the-notebook-editor)"
   ]
  },
  {
   "cell_type": "markdown",
   "id": "be9d558b5224338f",
   "metadata": {},
   "source": [
    "# Thanks for reading this notebook!"
   ]
  }
 ],
 "metadata": {
  "kernelspec": {
   "display_name": "Python 3 (ipykernel)",
   "language": "python",
   "name": "python3"
  },
  "language_info": {
   "codemirror_mode": {
    "name": "ipython",
    "version": 3
   },
   "file_extension": ".py",
   "mimetype": "text/x-python",
   "name": "python",
   "nbconvert_exporter": "python",
   "pygments_lexer": "ipython3",
   "version": "3.10.12"
  }
 },
 "nbformat": 4,
 "nbformat_minor": 5
}
