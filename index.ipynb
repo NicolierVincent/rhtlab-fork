{
 "cells": [
  {
   "cell_type": "markdown",
   "metadata": {},
   "source": [
    "Power System Notebooks\n",
    "======================\n",
    "\n",
    "*Welcome to the Power System Notebooks!*"
   ]
  },
  {
   "cell_type": "markdown",
   "metadata": {},
   "source": [
    "## Jupyter notebooks\n",
    "\n",
    "0. [Welcome to Jupyter](./tutorials/00_welcome_to_jupyter.ipynb)\n",
    "1. [The Basics of Python](./tutorials/01_basics.ipynb)\n",
    "2. [NumPy Quick Start Guide](./tutorials/02_numpy.ipynb)\n",
    "3. [Pandas Quick Start Guide](./tutorials/03_pandas.ipynb)\n",
    "4. [An Introduction to **panda**power](./tutorials/04_pandapower.ipynb)\n",
    "5. [Your first class demo notebook](./tutorials/05_class_demo.ipynb)"
   ]
  },
  {
   "cell_type": "markdown",
   "metadata": {},
   "source": [
    "## To go further with data science and maths in power systems\n",
    "\n",
    "6. [Matplotlib Quick Start Guide](./tutorials/to_go_further/06_matplotlib.ipynb)\n",
    "7. [Plotly Quick Start Guide](./tutorials/to_go_further/07_plotly.ipynb)\n",
    "8. [Tutorial for Timeseries](./tutorials/to_go_further/08_timeseries.ipynb)\n",
    "<!-- 9. [Linear Algebra Basics with NumPy](./tutorials/to_go_further/09_linear_algebra.ipynb) -->"
   ]
  },
  {
   "cell_type": "markdown",
   "metadata": {},
   "source": [
    "<details>\n",
    "\n",
    "<summary>Other references to improve your coding experience</summary>\n",
    "\n",
    "### Advanced tutorials\n",
    "\n",
    "Some good places to start with Python are the following books and websites. Most of these sources inspired us to build this tutorial. Credits can be made especially thanks to Jeremy Howard and Sylvain Gugger's [fastbook](https://github.com/fastai/fastbook), [Wes McKinney's last book](https://wesmckinney.com/book/), and [Aurélien Géron](https://homl.info/tutorials). The nice tutorials from [VS Code](https://code.visualstudio.com/docs/datascience/jupyter-notebooks#_work-with-code-cells-in-the-notebook-editor) and many other listed below... Part of their tutorials and booked where gathered in this notebook.\n",
    "\n",
    "- [Python's official tutorial](https://docs.python.org/3/tutorial/)\n",
    "- [_Python for Data Analysis_](https://wesmckinney.com/book/) by Wes McKinney (O’Reilly). Copyright 2022, 978-1-098-10403-0\n",
    "- [Website of the book](https://wesmckinney.com/book)\n",
    "- [Jupyter Notebooks in VS Code](https://code.visualstudio.com/docs/datascience/jupyter-notebooks#_work-with-code-cells-in-the-notebook-editor)\n",
    "- [pydata-book](https://github.com/wesm/pydata-book/tree/3rd-edition)\n",
    "- [learnpython.org](https://learnpython.org/)\n",
    "- [The Python Tutorial](https://docs.python.org/3/tutorial)\n",
    "- [NumPy](https://numpy.org/)\n",
    "- [NumPy for MATLAB users](https://numpy.org/doc/stable/user/numpy-for-matlab-users.html)\n",
    "- [pandas](https://pandas.pydata.org/)\n",
    "- [pandas: Getting started tutorials](https://pandas.pydata.org/docs/getting_started/intro_tutorials/)\n",
    "- [Matplotlib: Visualization with Python](https://matplotlib.org/)\n",
    "- [Matplotlib: Quick start guide](https://matplotlib.org/stable/tutorials/introductory/quick_start.html)\n",
    "- [JupyterLab Documentation](https://jupyterlab.readthedocs.io/en/stable/user/interface.html)\n",
    "- [pandapower Documentation 'Getting started'](http://www.pandapower.org/start/)"
   ]
  },
  {
   "cell_type": "markdown",
   "metadata": {},
   "source": [
    "> **Note**: Don't be frightened by the quantity of new references, this is the world of programming, it's important to surf different sources and new concepts and to start learning again each time you've gone beyond a concept. These references can be seen as a selection that will save you from spending too much time on Google."
   ]
  }
 ],
 "metadata": {
  "language_info": {
   "name": "python"
  },
  "orig_nbformat": 4
 },
 "nbformat": 4,
 "nbformat_minor": 2
}
