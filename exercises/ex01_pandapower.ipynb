{
 "cells": [
  {
   "cell_type": "markdown",
   "id": "782a28e5-d3ce-4660-8962-ddca180e3792",
   "metadata": {
    "tags": []
   },
   "source": [
    "### Problem data\n",
    "\n",
    "## Simple PV injection (diagram $p-q$)\n",
    "\n",
    "We consider the following simple 2-bus example network as a minimal example, including PV power:\n",
    "\n",
    "- The 1km cable with the following characteristics: $(\\mathrm{R} + \\text{ j}\\mathrm{X})' = 0.193 + \\text{ j} 0.068 \\mathrm{~\\Omega}/\\text{km} $\n",
    "\n",
    "- Photovoltaic power: $34.2 \\text{ kW}$.\n",
    "\n",
    "- Voltage: $230 \\text{ V} $"
   ]
  },
  {
   "cell_type": "markdown",
   "id": "666fd2dd-7254-4ed5-8180-99fbe46559d0",
   "metadata": {
    "tags": []
   },
   "source": [
    "### Creating the load flow example in pandapower"
   ]
  },
  {
   "cell_type": "markdown",
   "id": "9b71bfd0-d25a-47f6-b867-7aa831188d0d",
   "metadata": {},
   "source": [
    "A three phase or unbalanced load flow is performed by using the function `pp.runpp_3ph(net)`."
   ]
  },
  {
   "cell_type": "code",
   "execution_count": 33,
   "id": "e76c2f52-6902-4095-9a9a-58074b8f0499",
   "metadata": {
    "ExecuteTime": {
     "end_time": "2023-08-17T14:38:16.720907200Z",
     "start_time": "2023-08-17T14:38:16.352486600Z"
    }
   },
   "outputs": [],
   "source": [
    "import pandapower as pp\n",
    "\n",
    "# Create empty net\n",
    "net = pp.create_empty_network()\n",
    "\n",
    "# Create buses\n",
    "bus_eg = pp.create_bus(net, vn_kv=0.230, name=\"Ext. Grid\")\n",
    "bus_pvload = pp.create_bus(net, vn_kv=0.230, name=\"PV Load\")\n",
    "\n",
    "# Create bus elements\n",
    "pp.create_ext_grid(net, bus=bus_eg, vm_pu=1.0, name=\"Grid Connection\")\n",
    "pp.create_load(net, bus=bus_pvload, p_mw=-0.0342/3, name=\"Photovoltaic power\")\n",
    "\n",
    "# Create branch elements\n",
    "line_data = {\"c_nf_per_km\": 0, \"r_ohm_per_km\": 0.193, \"x_ohm_per_km\": 0.068, \"max_i_ka\": 0.400}\n",
    "pp.create_std_type(net, line_data, \"IESE zxYY SE\", element='line')\n",
    "\n",
    "#impedance = pp.create_impedance(net, from_bus=bus1, to_bus=bus2, sn_mva = 0.0100, rft_pu=0.943, xft_pu=0.332)\n",
    "line = pp.create_line(net, from_bus=bus_eg, to_bus=bus_pvload, length_km=1.0, std_type=\"IESE zxYY SE\", name=\"Line\")"
   ]
  },
  {
   "cell_type": "markdown",
   "id": "80f64d40-cfb6-4742-b0b8-c5a262685696",
   "metadata": {},
   "source": [
    "### Data structure"
   ]
  },
  {
   "cell_type": "markdown",
   "id": "0279eba9-6aaf-44d9-9760-b4c0bc7a1906",
   "metadata": {},
   "source": [
    "Each dataframe in a `pandapower` net object contains the information about one `pandapower` element, such as line, load transformer etc."
   ]
  },
  {
   "cell_type": "code",
   "execution_count": 34,
   "id": "0c5b9e14-06be-4318-a82f-4958e326c97c",
   "metadata": {
    "ExecuteTime": {
     "end_time": "2023-08-17T14:38:16.720907200Z",
     "start_time": "2023-08-17T14:38:16.400713100Z"
    }
   },
   "outputs": [
    {
     "data": {
      "text/html": [
       "<div>\n",
       "<style scoped>\n",
       "    .dataframe tbody tr th:only-of-type {\n",
       "        vertical-align: middle;\n",
       "    }\n",
       "\n",
       "    .dataframe tbody tr th {\n",
       "        vertical-align: top;\n",
       "    }\n",
       "\n",
       "    .dataframe thead th {\n",
       "        text-align: right;\n",
       "    }\n",
       "</style>\n",
       "<table border=\"1\" class=\"dataframe\">\n",
       "  <thead>\n",
       "    <tr style=\"text-align: right;\">\n",
       "      <th></th>\n",
       "      <th>name</th>\n",
       "      <th>vn_kv</th>\n",
       "      <th>type</th>\n",
       "      <th>zone</th>\n",
       "      <th>in_service</th>\n",
       "    </tr>\n",
       "  </thead>\n",
       "  <tbody>\n",
       "    <tr>\n",
       "      <th>0</th>\n",
       "      <td>Ext. Grid</td>\n",
       "      <td>0.23</td>\n",
       "      <td>b</td>\n",
       "      <td>None</td>\n",
       "      <td>True</td>\n",
       "    </tr>\n",
       "    <tr>\n",
       "      <th>1</th>\n",
       "      <td>PV Load</td>\n",
       "      <td>0.23</td>\n",
       "      <td>b</td>\n",
       "      <td>None</td>\n",
       "      <td>True</td>\n",
       "    </tr>\n",
       "  </tbody>\n",
       "</table>\n",
       "</div>"
      ],
      "text/plain": [
       "        name  vn_kv type  zone  in_service\n",
       "0  Ext. Grid   0.23    b  None        True\n",
       "1    PV Load   0.23    b  None        True"
      ]
     },
     "execution_count": 34,
     "metadata": {},
     "output_type": "execute_result"
    }
   ],
   "source": [
    "net.bus"
   ]
  },
  {
   "cell_type": "markdown",
   "id": "f09b96cb-930d-4436-a8a8-e04cac414cf3",
   "metadata": {},
   "source": [
    "**Note**: We have created a non standard line with the km impedance given by Marc:"
   ]
  },
  {
   "cell_type": "code",
   "execution_count": 35,
   "id": "503cff58-94ad-4a96-9b01-cca5c8de16f7",
   "metadata": {
    "ExecuteTime": {
     "end_time": "2023-08-17T14:38:16.720907200Z",
     "start_time": "2023-08-17T14:38:16.403264900Z"
    }
   },
   "outputs": [
    {
     "data": {
      "text/html": [
       "<div>\n",
       "<style scoped>\n",
       "    .dataframe tbody tr th:only-of-type {\n",
       "        vertical-align: middle;\n",
       "    }\n",
       "\n",
       "    .dataframe tbody tr th {\n",
       "        vertical-align: top;\n",
       "    }\n",
       "\n",
       "    .dataframe thead th {\n",
       "        text-align: right;\n",
       "    }\n",
       "</style>\n",
       "<table border=\"1\" class=\"dataframe\">\n",
       "  <thead>\n",
       "    <tr style=\"text-align: right;\">\n",
       "      <th></th>\n",
       "      <th>name</th>\n",
       "      <th>std_type</th>\n",
       "      <th>from_bus</th>\n",
       "      <th>to_bus</th>\n",
       "      <th>length_km</th>\n",
       "      <th>r_ohm_per_km</th>\n",
       "      <th>x_ohm_per_km</th>\n",
       "      <th>c_nf_per_km</th>\n",
       "      <th>g_us_per_km</th>\n",
       "      <th>max_i_ka</th>\n",
       "      <th>df</th>\n",
       "      <th>parallel</th>\n",
       "      <th>type</th>\n",
       "      <th>in_service</th>\n",
       "    </tr>\n",
       "  </thead>\n",
       "  <tbody>\n",
       "    <tr>\n",
       "      <th>0</th>\n",
       "      <td>Line</td>\n",
       "      <td>IESE zxYY SE</td>\n",
       "      <td>0</td>\n",
       "      <td>1</td>\n",
       "      <td>1.0</td>\n",
       "      <td>0.193</td>\n",
       "      <td>0.068</td>\n",
       "      <td>0.0</td>\n",
       "      <td>0.0</td>\n",
       "      <td>0.4</td>\n",
       "      <td>1.0</td>\n",
       "      <td>1</td>\n",
       "      <td>NaN</td>\n",
       "      <td>True</td>\n",
       "    </tr>\n",
       "  </tbody>\n",
       "</table>\n",
       "</div>"
      ],
      "text/plain": [
       "   name      std_type  from_bus  to_bus  length_km  r_ohm_per_km  \\\n",
       "0  Line  IESE zxYY SE         0       1        1.0         0.193   \n",
       "\n",
       "   x_ohm_per_km  c_nf_per_km  g_us_per_km  max_i_ka   df  parallel type  \\\n",
       "0         0.068          0.0          0.0       0.4  1.0         1  NaN   \n",
       "\n",
       "   in_service  \n",
       "0        True  "
      ]
     },
     "execution_count": 35,
     "metadata": {},
     "output_type": "execute_result"
    }
   ],
   "source": [
    "net.line"
   ]
  },
  {
   "cell_type": "markdown",
   "id": "1eb7e56d-1a4d-4171-9bfb-9af9b0ad5967",
   "metadata": {},
   "source": [
    "### Power flow simulation"
   ]
  },
  {
   "cell_type": "markdown",
   "id": "8959906e-a412-4dc4-aa84-9c6e9167f44f",
   "metadata": {},
   "source": [
    "We now run a balanced 3-phase AC Power Flow:"
   ]
  },
  {
   "cell_type": "code",
   "execution_count": 42,
   "id": "fc35db5c-4271-434a-b897-00ac90a95357",
   "metadata": {
    "ExecuteTime": {
     "end_time": "2023-08-17T14:38:16.783395700Z",
     "start_time": "2023-08-17T14:38:16.421647500Z"
    }
   },
   "outputs": [],
   "source": [
    "# 1-phase\n",
    "pp.runpp(net)\n",
    "\n",
    "# 3-phase\n",
    "#pp.runpp_3ph(net)"
   ]
  },
  {
   "cell_type": "markdown",
   "id": "eafcc835-4c2e-4408-b973-7f9054dce922",
   "metadata": {},
   "source": [
    "And check out at the results for buses and line:"
   ]
  },
  {
   "cell_type": "code",
   "execution_count": 37,
   "id": "c603aad3-496a-414d-a7a1-6e2f6647c3f2",
   "metadata": {
    "ExecuteTime": {
     "end_time": "2023-08-17T14:38:16.790402500Z",
     "start_time": "2023-08-17T14:38:16.448610300Z"
    }
   },
   "outputs": [
    {
     "data": {
      "text/html": [
       "<div>\n",
       "<style scoped>\n",
       "    .dataframe tbody tr th:only-of-type {\n",
       "        vertical-align: middle;\n",
       "    }\n",
       "\n",
       "    .dataframe tbody tr th {\n",
       "        vertical-align: top;\n",
       "    }\n",
       "\n",
       "    .dataframe thead th {\n",
       "        text-align: right;\n",
       "    }\n",
       "</style>\n",
       "<table border=\"1\" class=\"dataframe\">\n",
       "  <thead>\n",
       "    <tr style=\"text-align: right;\">\n",
       "      <th></th>\n",
       "      <th>vm_pu</th>\n",
       "      <th>va_degree</th>\n",
       "      <th>p_mw</th>\n",
       "      <th>q_mvar</th>\n",
       "    </tr>\n",
       "  </thead>\n",
       "  <tbody>\n",
       "    <tr>\n",
       "      <th>0</th>\n",
       "      <td>1.000000</td>\n",
       "      <td>0.00000</td>\n",
       "      <td>0.010962</td>\n",
       "      <td>-0.000154</td>\n",
       "    </tr>\n",
       "    <tr>\n",
       "      <th>1</th>\n",
       "      <td>1.039897</td>\n",
       "      <td>0.80743</td>\n",
       "      <td>-0.011400</td>\n",
       "      <td>0.000000</td>\n",
       "    </tr>\n",
       "  </tbody>\n",
       "</table>\n",
       "</div>"
      ],
      "text/plain": [
       "      vm_pu  va_degree      p_mw    q_mvar\n",
       "0  1.000000    0.00000  0.010962 -0.000154\n",
       "1  1.039897    0.80743 -0.011400  0.000000"
      ]
     },
     "execution_count": 37,
     "metadata": {},
     "output_type": "execute_result"
    }
   ],
   "source": [
    "net.res_bus"
   ]
  },
  {
   "cell_type": "markdown",
   "id": "c926ecbc-28c7-4e57-99ec-99887f228d72",
   "metadata": {},
   "source": [
    "#### Switches"
   ]
  },
  {
   "cell_type": "markdown",
   "id": "f5591b2f-7b64-4dac-9aa3-3310a52e1415",
   "metadata": {},
   "source": [
    "We now create an open switch at the load bus:"
   ]
  },
  {
   "cell_type": "code",
   "execution_count": 38,
   "id": "6d718894-63c0-4dc0-8533-e5e006c04507",
   "metadata": {
    "ExecuteTime": {
     "end_time": "2023-08-17T14:38:16.790402500Z",
     "start_time": "2023-08-17T14:38:16.450620300Z"
    }
   },
   "outputs": [
    {
     "data": {
      "text/plain": [
       "0"
      ]
     },
     "execution_count": 38,
     "metadata": {},
     "output_type": "execute_result"
    }
   ],
   "source": [
    "pp.create_switch(net, bus=bus2, element=line, et=\"l\", closed=True)"
   ]
  },
  {
   "cell_type": "markdown",
   "id": "3ddb9b24-9afe-42aa-8e38-038317223d88",
   "metadata": {},
   "source": [
    "We can verify if the switch cuts the load bus from power supply, by running a power flow and inspecting the results:"
   ]
  },
  {
   "cell_type": "code",
   "execution_count": 39,
   "id": "d055842d-bf6e-4d93-8588-510a47aa54a8",
   "metadata": {
    "ExecuteTime": {
     "end_time": "2023-08-17T14:38:16.820646200Z",
     "start_time": "2023-08-17T14:38:16.466763500Z"
    }
   },
   "outputs": [
    {
     "data": {
      "text/html": [
       "<div>\n",
       "<style scoped>\n",
       "    .dataframe tbody tr th:only-of-type {\n",
       "        vertical-align: middle;\n",
       "    }\n",
       "\n",
       "    .dataframe tbody tr th {\n",
       "        vertical-align: top;\n",
       "    }\n",
       "\n",
       "    .dataframe thead th {\n",
       "        text-align: right;\n",
       "    }\n",
       "</style>\n",
       "<table border=\"1\" class=\"dataframe\">\n",
       "  <thead>\n",
       "    <tr style=\"text-align: right;\">\n",
       "      <th></th>\n",
       "      <th>vm_pu</th>\n",
       "      <th>va_degree</th>\n",
       "      <th>p_mw</th>\n",
       "      <th>q_mvar</th>\n",
       "    </tr>\n",
       "  </thead>\n",
       "  <tbody>\n",
       "    <tr>\n",
       "      <th>0</th>\n",
       "      <td>1.000000</td>\n",
       "      <td>0.00000</td>\n",
       "      <td>0.010962</td>\n",
       "      <td>-0.000154</td>\n",
       "    </tr>\n",
       "    <tr>\n",
       "      <th>1</th>\n",
       "      <td>1.039897</td>\n",
       "      <td>0.80743</td>\n",
       "      <td>-0.011400</td>\n",
       "      <td>0.000000</td>\n",
       "    </tr>\n",
       "  </tbody>\n",
       "</table>\n",
       "</div>"
      ],
      "text/plain": [
       "      vm_pu  va_degree      p_mw    q_mvar\n",
       "0  1.000000    0.00000  0.010962 -0.000154\n",
       "1  1.039897    0.80743 -0.011400  0.000000"
      ]
     },
     "execution_count": 39,
     "metadata": {},
     "output_type": "execute_result"
    }
   ],
   "source": [
    "pp.runpp(net, numba=True)\n",
    "net.res_bus"
   ]
  },
  {
   "cell_type": "markdown",
   "id": "091fe504-40f2-469e-bbc4-317c2a08f166",
   "metadata": {},
   "source": [
    "We can see that the voltage at bus 2 is given as NaN. The load does not feed in:"
   ]
  },
  {
   "cell_type": "code",
   "execution_count": 40,
   "id": "b9a8b452-86ca-429b-bfe7-8253edaa7993",
   "metadata": {
    "ExecuteTime": {
     "end_time": "2023-08-17T14:38:16.820646200Z",
     "start_time": "2023-08-17T14:38:16.496870Z"
    }
   },
   "outputs": [
    {
     "data": {
      "text/html": [
       "<div>\n",
       "<style scoped>\n",
       "    .dataframe tbody tr th:only-of-type {\n",
       "        vertical-align: middle;\n",
       "    }\n",
       "\n",
       "    .dataframe tbody tr th {\n",
       "        vertical-align: top;\n",
       "    }\n",
       "\n",
       "    .dataframe thead th {\n",
       "        text-align: right;\n",
       "    }\n",
       "</style>\n",
       "<table border=\"1\" class=\"dataframe\">\n",
       "  <thead>\n",
       "    <tr style=\"text-align: right;\">\n",
       "      <th></th>\n",
       "      <th>p_mw</th>\n",
       "      <th>q_mvar</th>\n",
       "    </tr>\n",
       "  </thead>\n",
       "  <tbody>\n",
       "    <tr>\n",
       "      <th>0</th>\n",
       "      <td>-0.0114</td>\n",
       "      <td>0.0</td>\n",
       "    </tr>\n",
       "  </tbody>\n",
       "</table>\n",
       "</div>"
      ],
      "text/plain": [
       "     p_mw  q_mvar\n",
       "0 -0.0114     0.0"
      ]
     },
     "execution_count": 40,
     "metadata": {},
     "output_type": "execute_result"
    }
   ],
   "source": [
    "net.res_load"
   ]
  },
  {
   "cell_type": "markdown",
   "id": "47955a10-6ac0-4998-b811-59a6466795dc",
   "metadata": {},
   "source": [
    "And the line is in open loop operation:"
   ]
  },
  {
   "cell_type": "code",
   "execution_count": 41,
   "id": "6b972d9d-1752-4912-97c8-14848e891344",
   "metadata": {
    "ExecuteTime": {
     "end_time": "2023-08-17T14:38:16.846911600Z",
     "start_time": "2023-08-17T14:38:16.508761100Z"
    },
    "scrolled": true
   },
   "outputs": [
    {
     "data": {
      "text/html": [
       "<div>\n",
       "<style scoped>\n",
       "    .dataframe tbody tr th:only-of-type {\n",
       "        vertical-align: middle;\n",
       "    }\n",
       "\n",
       "    .dataframe tbody tr th {\n",
       "        vertical-align: top;\n",
       "    }\n",
       "\n",
       "    .dataframe thead th {\n",
       "        text-align: right;\n",
       "    }\n",
       "</style>\n",
       "<table border=\"1\" class=\"dataframe\">\n",
       "  <thead>\n",
       "    <tr style=\"text-align: right;\">\n",
       "      <th></th>\n",
       "      <th>p_from_mw</th>\n",
       "      <th>q_from_mvar</th>\n",
       "      <th>p_to_mw</th>\n",
       "      <th>q_to_mvar</th>\n",
       "      <th>pl_mw</th>\n",
       "      <th>ql_mvar</th>\n",
       "      <th>i_from_ka</th>\n",
       "      <th>i_to_ka</th>\n",
       "      <th>i_ka</th>\n",
       "      <th>vm_from_pu</th>\n",
       "      <th>va_from_degree</th>\n",
       "      <th>vm_to_pu</th>\n",
       "      <th>va_to_degree</th>\n",
       "      <th>loading_percent</th>\n",
       "    </tr>\n",
       "  </thead>\n",
       "  <tbody>\n",
       "    <tr>\n",
       "      <th>0</th>\n",
       "      <td>-0.010962</td>\n",
       "      <td>0.000154</td>\n",
       "      <td>0.0114</td>\n",
       "      <td>1.173720e-13</td>\n",
       "      <td>0.000438</td>\n",
       "      <td>0.000154</td>\n",
       "      <td>0.027519</td>\n",
       "      <td>0.027519</td>\n",
       "      <td>0.027519</td>\n",
       "      <td>1.0</td>\n",
       "      <td>0.0</td>\n",
       "      <td>1.039897</td>\n",
       "      <td>0.80743</td>\n",
       "      <td>6.879648</td>\n",
       "    </tr>\n",
       "  </tbody>\n",
       "</table>\n",
       "</div>"
      ],
      "text/plain": [
       "   p_from_mw  q_from_mvar  p_to_mw     q_to_mvar     pl_mw   ql_mvar  \\\n",
       "0  -0.010962     0.000154   0.0114  1.173720e-13  0.000438  0.000154   \n",
       "\n",
       "   i_from_ka   i_to_ka      i_ka  vm_from_pu  va_from_degree  vm_to_pu  \\\n",
       "0   0.027519  0.027519  0.027519         1.0             0.0  1.039897   \n",
       "\n",
       "   va_to_degree  loading_percent  \n",
       "0       0.80743         6.879648  "
      ]
     },
     "execution_count": 41,
     "metadata": {},
     "output_type": "execute_result"
    }
   ],
   "source": [
    "net.res_line"
   ]
  }
 ],
 "metadata": {
  "kernelspec": {
   "display_name": "Python 3 (ipykernel)",
   "language": "python",
   "name": "python3"
  },
  "language_info": {
   "codemirror_mode": {
    "name": "ipython",
    "version": 3
   },
   "file_extension": ".py",
   "mimetype": "text/x-python",
   "name": "python",
   "nbconvert_exporter": "python",
   "pygments_lexer": "ipython3",
   "version": "3.10.12"
  }
 },
 "nbformat": 4,
 "nbformat_minor": 5
}
